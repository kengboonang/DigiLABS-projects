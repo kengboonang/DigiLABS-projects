{
 "cells": [
  {
   "cell_type": "code",
   "execution_count": null,
   "id": "8b81ab53",
   "metadata": {},
   "outputs": [],
   "source": [
    "You are required to:\n",
    "\n",
    "Read in the data from Sheet 1 using Pandas and perform the necessary data wrangling to prepare it. Then you should complete the user stories below:\n",
    "\n",
    "User Stories: \n",
    "\n",
    "#1: When I choose a social media network, I am able to get a view the number of users in each country.\n",
    "\n",
    "\n",
    "#2: When I choose a country, I am able to see all the relevant social networks its people use ranked in descending order. \n",
    "\n",
    "#3: I can view a comparison of the percentage of users based on the population for each social media network by the population of the country. (You will have to scrape the population data and provide the source(s).)\n"
   ]
  },
  {
   "cell_type": "code",
   "execution_count": 348,
   "id": "58ff69ac",
   "metadata": {},
   "outputs": [],
   "source": [
    "# import and clean data\n",
    "import pandas as pd\n",
    "\n",
    "df = pd.read_excel('SocMed_Geographic.xlsx',sheet_name='Sheet1',header=1)      \n",
    "df = df.fillna(0)\n",
    "df = df.set_index('Unnamed: 0')\n",
    "df = df.reset_index()\n",
    "clean = df.rename(columns={'Unnamed: 0':'Platform'},inplace=False)\n",
    "clean = clean.set_index('Platform')\n",
    "# removing whitespaces\n",
    "clean.columns = clean.columns.str.strip()\n",
    "clean.index = clean.index.str.strip()\n",
    "clean = clean.apply(lambda x: x.str.strip() if x.dtype == \"object\" else x)\n",
    "clean = clean.apply(lambda x: x.str.replace(',','') if x.dtype == \"object\" else x)\n",
    "clean = clean.fillna(0)"
   ]
  },
  {
   "cell_type": "code",
   "execution_count": 349,
   "id": "147af2f7",
   "metadata": {},
   "outputs": [
    {
     "data": {
      "text/html": [
       "<div>\n",
       "<style scoped>\n",
       "    .dataframe tbody tr th:only-of-type {\n",
       "        vertical-align: middle;\n",
       "    }\n",
       "\n",
       "    .dataframe tbody tr th {\n",
       "        vertical-align: top;\n",
       "    }\n",
       "\n",
       "    .dataframe thead th {\n",
       "        text-align: right;\n",
       "    }\n",
       "</style>\n",
       "<table border=\"1\" class=\"dataframe\">\n",
       "  <thead>\n",
       "    <tr style=\"text-align: right;\">\n",
       "      <th></th>\n",
       "      <th>United States</th>\n",
       "      <th>Indonesia</th>\n",
       "      <th>Singapore</th>\n",
       "      <th>China</th>\n",
       "      <th>India</th>\n",
       "      <th>Vietnam</th>\n",
       "      <th>Philippines</th>\n",
       "      <th>Bangladesh</th>\n",
       "    </tr>\n",
       "    <tr>\n",
       "      <th>Platform</th>\n",
       "      <th></th>\n",
       "      <th></th>\n",
       "      <th></th>\n",
       "      <th></th>\n",
       "      <th></th>\n",
       "      <th></th>\n",
       "      <th></th>\n",
       "      <th></th>\n",
       "    </tr>\n",
       "  </thead>\n",
       "  <tbody>\n",
       "    <tr>\n",
       "      <th>Bilibili</th>\n",
       "      <td>0</td>\n",
       "      <td>0</td>\n",
       "      <td>0</td>\n",
       "      <td>27400000 (2019 30)</td>\n",
       "      <td>0</td>\n",
       "      <td>0</td>\n",
       "      <td>0</td>\n",
       "      <td>0</td>\n",
       "    </tr>\n",
       "    <tr>\n",
       "      <th>Facebook</th>\n",
       "      <td>190000000 (2020 31)</td>\n",
       "      <td>120000000 (2020 31)</td>\n",
       "      <td>4450000 (2020 32)</td>\n",
       "      <td>3000000 (2020 36)</td>\n",
       "      <td>280000000 (2020 31)</td>\n",
       "      <td>63000000 (2020 31)</td>\n",
       "      <td>72000000 (2020 31)</td>\n",
       "      <td>37000000 (2020 31)</td>\n",
       "    </tr>\n",
       "    <tr>\n",
       "      <th>Instagram</th>\n",
       "      <td>107000000 (2020 33)</td>\n",
       "      <td>59840000 (2020 34)</td>\n",
       "      <td>2110000 (2020 35)</td>\n",
       "      <td>3600000 (2020 37)</td>\n",
       "      <td>88000000 (2020 38)</td>\n",
       "      <td>8000000 (2019 39)</td>\n",
       "      <td>1100000 (2020 38)</td>\n",
       "      <td>1 676 100 (2019 40)</td>\n",
       "    </tr>\n",
       "    <tr>\n",
       "      <th>Linkedln</th>\n",
       "      <td>160000000 (2020 41)</td>\n",
       "      <td>15240000 (2020 42)</td>\n",
       "      <td>2 682 000 (2019 43)</td>\n",
       "      <td>5397000 (2019 44)</td>\n",
       "      <td>62000000 (2020 45)</td>\n",
       "      <td>3 087 500 (2019 46)</td>\n",
       "      <td>2773485 (2019 47)</td>\n",
       "      <td>2 990 000 (2019 48)</td>\n",
       "    </tr>\n",
       "    <tr>\n",
       "      <th>Tencent QQ</th>\n",
       "      <td>0</td>\n",
       "      <td>0</td>\n",
       "      <td>0</td>\n",
       "      <td>659100000 (2020 49)</td>\n",
       "      <td>0</td>\n",
       "      <td>0</td>\n",
       "      <td>0</td>\n",
       "      <td>0</td>\n",
       "    </tr>\n",
       "    <tr>\n",
       "      <th>Tik Tok</th>\n",
       "      <td>45400000 (2020 50)</td>\n",
       "      <td>81000000 (2020 51)</td>\n",
       "      <td>800000‬ (2020 52)</td>\n",
       "      <td>400000000 (2020 53)</td>\n",
       "      <td>120000000 (2019 54)</td>\n",
       "      <td>12000000 (2019 55)</td>\n",
       "      <td>0</td>\n",
       "      <td>0</td>\n",
       "    </tr>\n",
       "    <tr>\n",
       "      <th>Twitter</th>\n",
       "      <td>55700000 (2019 56)</td>\n",
       "      <td>11800000 (2020 57)</td>\n",
       "      <td>1370000 (2020 58)</td>\n",
       "      <td>3200000 (2020 59)</td>\n",
       "      <td>13150000 (2020 57)</td>\n",
       "      <td>127000000 (2020 60)</td>\n",
       "      <td>10400000 (2019 61)</td>\n",
       "      <td>3000000 (2020 62)</td>\n",
       "    </tr>\n",
       "    <tr>\n",
       "      <th>WeChat</th>\n",
       "      <td>0</td>\n",
       "      <td>0</td>\n",
       "      <td>1000000 (2020 63)</td>\n",
       "      <td>900000000‬ (2019 64)</td>\n",
       "      <td>0</td>\n",
       "      <td>0</td>\n",
       "      <td>0</td>\n",
       "      <td>0</td>\n",
       "    </tr>\n",
       "    <tr>\n",
       "      <th>Weibo</th>\n",
       "      <td>0</td>\n",
       "      <td>0</td>\n",
       "      <td>800000 (2019 65)</td>\n",
       "      <td>480000000 (2019 66)</td>\n",
       "      <td>0</td>\n",
       "      <td>600000</td>\n",
       "      <td>0</td>\n",
       "      <td>0</td>\n",
       "    </tr>\n",
       "    <tr>\n",
       "      <th>Youtube</th>\n",
       "      <td>192000000 (2018 67)</td>\n",
       "      <td>132000000 (2019 68)</td>\n",
       "      <td>43000000 (2020 63)</td>\n",
       "      <td>580000000 (2019 69)</td>\n",
       "      <td>265000000 (2020 70)</td>\n",
       "      <td>6200000 (2020 71)</td>\n",
       "      <td>0</td>\n",
       "      <td>29000000 (2020 72)</td>\n",
       "    </tr>\n",
       "  </tbody>\n",
       "</table>\n",
       "</div>"
      ],
      "text/plain": [
       "                  United States            Indonesia            Singapore  \\\n",
       "Platform                                                                    \n",
       "Bilibili                      0                    0                    0   \n",
       "Facebook    190000000 (2020 31)  120000000 (2020 31)    4450000 (2020 32)   \n",
       "Instagram   107000000 (2020 33)   59840000 (2020 34)    2110000 (2020 35)   \n",
       "Linkedln    160000000 (2020 41)   15240000 (2020 42)  2 682 000 (2019 43)   \n",
       "Tencent QQ                    0                    0                    0   \n",
       "Tik Tok      45400000 (2020 50)   81000000 (2020 51)    800000‬ (2020 52)   \n",
       "Twitter      55700000 (2019 56)   11800000 (2020 57)    1370000 (2020 58)   \n",
       "WeChat                        0                    0    1000000 (2020 63)   \n",
       "Weibo                         0                    0     800000 (2019 65)   \n",
       "Youtube     192000000 (2018 67)  132000000 (2019 68)   43000000 (2020 63)   \n",
       "\n",
       "                           China                India              Vietnam  \\\n",
       "Platform                                                                     \n",
       "Bilibili      27400000 (2019 30)                    0                    0   \n",
       "Facebook       3000000 (2020 36)  280000000 (2020 31)   63000000 (2020 31)   \n",
       "Instagram      3600000 (2020 37)   88000000 (2020 38)    8000000 (2019 39)   \n",
       "Linkedln       5397000 (2019 44)   62000000 (2020 45)  3 087 500 (2019 46)   \n",
       "Tencent QQ   659100000 (2020 49)                    0                    0   \n",
       "Tik Tok      400000000 (2020 53)  120000000 (2019 54)   12000000 (2019 55)   \n",
       "Twitter        3200000 (2020 59)   13150000 (2020 57)  127000000 (2020 60)   \n",
       "WeChat      900000000‬ (2019 64)                    0                    0   \n",
       "Weibo        480000000 (2019 66)                    0               600000   \n",
       "Youtube      580000000 (2019 69)  265000000 (2020 70)    6200000 (2020 71)   \n",
       "\n",
       "                   Philippines           Bangladesh  \n",
       "Platform                                             \n",
       "Bilibili                     0                    0  \n",
       "Facebook    72000000 (2020 31)   37000000 (2020 31)  \n",
       "Instagram    1100000 (2020 38)  1 676 100 (2019 40)  \n",
       "Linkedln     2773485 (2019 47)  2 990 000 (2019 48)  \n",
       "Tencent QQ                   0                    0  \n",
       "Tik Tok                      0                    0  \n",
       "Twitter     10400000 (2019 61)    3000000 (2020 62)  \n",
       "WeChat                       0                    0  \n",
       "Weibo                        0                    0  \n",
       "Youtube                      0   29000000 (2020 72)  "
      ]
     },
     "execution_count": 349,
     "metadata": {},
     "output_type": "execute_result"
    }
   ],
   "source": [
    "clean"
   ]
  },
  {
   "cell_type": "code",
   "execution_count": 257,
   "id": "0c3686b0",
   "metadata": {},
   "outputs": [],
   "source": [
    "# loading website with population data\n",
    "from bs4 import BeautifulSoup\n",
    "import requests\n",
    "\n",
    "url = 'https://www.worldometers.info/world-population/population-by-country/'\n",
    "\n",
    "def read_url(url):\n",
    "    response = requests.get(url)\n",
    "    page_content = response.text\n",
    "    return page_content\n",
    "    \n",
    "page_content = read_url(url)\n",
    "soup = BeautifulSoup(page_content, 'html.parser')\n",
    "data_items = soup.find_all('a')"
   ]
  },
  {
   "cell_type": "code",
   "execution_count": 355,
   "id": "cf0d85b5",
   "metadata": {},
   "outputs": [
    {
     "name": "stdout",
     "output_type": "stream",
     "text": [
      "What would you like to do? (Type command from list)\n",
      "Check Social Media\n",
      "Check Country\n",
      "Check Percentage\n",
      "Check Country\n",
      "\"United States\"\n",
      "\"Indonesia\"\n",
      "\"Singapore\"\n",
      "\"China\"\n",
      "\"India\"\n",
      "\"Vietnam\"\n",
      "\"Philippines\"\n",
      "\"Bangladesh\"\n",
      "\n",
      "Which country are you interestesd in? (Type country name)\n",
      "Singapore\n"
     ]
    },
    {
     "data": {
      "application/vnd.plotly.v1+json": {
       "config": {
        "plotlyServerURL": "https://plot.ly"
       },
       "data": [
        {
         "alignmentgroup": "True",
         "hovertemplate": "Number of Users=%{x}<br>Platform=%{y}<extra></extra>",
         "legendgroup": "",
         "marker": {
          "color": "#636efa",
          "pattern": {
           "shape": ""
          }
         },
         "name": "",
         "offsetgroup": "",
         "orientation": "h",
         "showlegend": false,
         "textposition": "auto",
         "type": "bar",
         "x": [
          "0",
          "0",
          "1000000 ",
          "1370000 ",
          "2 682 000 ",
          "2110000 ",
          "43000000 ",
          "4450000 ",
          "800000 ",
          "800000‬ "
         ],
         "xaxis": "x",
         "y": [
          "Bilibili",
          "Tencent QQ",
          "WeChat",
          "Twitter",
          "Linkedln",
          "Instagram",
          "Youtube",
          "Facebook",
          "Weibo",
          "Tik Tok"
         ],
         "yaxis": "y"
        }
       ],
       "layout": {
        "barmode": "relative",
        "legend": {
         "tracegroupgap": 0
        },
        "template": {
         "data": {
          "bar": [
           {
            "error_x": {
             "color": "#2a3f5f"
            },
            "error_y": {
             "color": "#2a3f5f"
            },
            "marker": {
             "line": {
              "color": "#E5ECF6",
              "width": 0.5
             },
             "pattern": {
              "fillmode": "overlay",
              "size": 10,
              "solidity": 0.2
             }
            },
            "type": "bar"
           }
          ],
          "barpolar": [
           {
            "marker": {
             "line": {
              "color": "#E5ECF6",
              "width": 0.5
             },
             "pattern": {
              "fillmode": "overlay",
              "size": 10,
              "solidity": 0.2
             }
            },
            "type": "barpolar"
           }
          ],
          "carpet": [
           {
            "aaxis": {
             "endlinecolor": "#2a3f5f",
             "gridcolor": "white",
             "linecolor": "white",
             "minorgridcolor": "white",
             "startlinecolor": "#2a3f5f"
            },
            "baxis": {
             "endlinecolor": "#2a3f5f",
             "gridcolor": "white",
             "linecolor": "white",
             "minorgridcolor": "white",
             "startlinecolor": "#2a3f5f"
            },
            "type": "carpet"
           }
          ],
          "choropleth": [
           {
            "colorbar": {
             "outlinewidth": 0,
             "ticks": ""
            },
            "type": "choropleth"
           }
          ],
          "contour": [
           {
            "colorbar": {
             "outlinewidth": 0,
             "ticks": ""
            },
            "colorscale": [
             [
              0,
              "#0d0887"
             ],
             [
              0.1111111111111111,
              "#46039f"
             ],
             [
              0.2222222222222222,
              "#7201a8"
             ],
             [
              0.3333333333333333,
              "#9c179e"
             ],
             [
              0.4444444444444444,
              "#bd3786"
             ],
             [
              0.5555555555555556,
              "#d8576b"
             ],
             [
              0.6666666666666666,
              "#ed7953"
             ],
             [
              0.7777777777777778,
              "#fb9f3a"
             ],
             [
              0.8888888888888888,
              "#fdca26"
             ],
             [
              1,
              "#f0f921"
             ]
            ],
            "type": "contour"
           }
          ],
          "contourcarpet": [
           {
            "colorbar": {
             "outlinewidth": 0,
             "ticks": ""
            },
            "type": "contourcarpet"
           }
          ],
          "heatmap": [
           {
            "colorbar": {
             "outlinewidth": 0,
             "ticks": ""
            },
            "colorscale": [
             [
              0,
              "#0d0887"
             ],
             [
              0.1111111111111111,
              "#46039f"
             ],
             [
              0.2222222222222222,
              "#7201a8"
             ],
             [
              0.3333333333333333,
              "#9c179e"
             ],
             [
              0.4444444444444444,
              "#bd3786"
             ],
             [
              0.5555555555555556,
              "#d8576b"
             ],
             [
              0.6666666666666666,
              "#ed7953"
             ],
             [
              0.7777777777777778,
              "#fb9f3a"
             ],
             [
              0.8888888888888888,
              "#fdca26"
             ],
             [
              1,
              "#f0f921"
             ]
            ],
            "type": "heatmap"
           }
          ],
          "heatmapgl": [
           {
            "colorbar": {
             "outlinewidth": 0,
             "ticks": ""
            },
            "colorscale": [
             [
              0,
              "#0d0887"
             ],
             [
              0.1111111111111111,
              "#46039f"
             ],
             [
              0.2222222222222222,
              "#7201a8"
             ],
             [
              0.3333333333333333,
              "#9c179e"
             ],
             [
              0.4444444444444444,
              "#bd3786"
             ],
             [
              0.5555555555555556,
              "#d8576b"
             ],
             [
              0.6666666666666666,
              "#ed7953"
             ],
             [
              0.7777777777777778,
              "#fb9f3a"
             ],
             [
              0.8888888888888888,
              "#fdca26"
             ],
             [
              1,
              "#f0f921"
             ]
            ],
            "type": "heatmapgl"
           }
          ],
          "histogram": [
           {
            "marker": {
             "pattern": {
              "fillmode": "overlay",
              "size": 10,
              "solidity": 0.2
             }
            },
            "type": "histogram"
           }
          ],
          "histogram2d": [
           {
            "colorbar": {
             "outlinewidth": 0,
             "ticks": ""
            },
            "colorscale": [
             [
              0,
              "#0d0887"
             ],
             [
              0.1111111111111111,
              "#46039f"
             ],
             [
              0.2222222222222222,
              "#7201a8"
             ],
             [
              0.3333333333333333,
              "#9c179e"
             ],
             [
              0.4444444444444444,
              "#bd3786"
             ],
             [
              0.5555555555555556,
              "#d8576b"
             ],
             [
              0.6666666666666666,
              "#ed7953"
             ],
             [
              0.7777777777777778,
              "#fb9f3a"
             ],
             [
              0.8888888888888888,
              "#fdca26"
             ],
             [
              1,
              "#f0f921"
             ]
            ],
            "type": "histogram2d"
           }
          ],
          "histogram2dcontour": [
           {
            "colorbar": {
             "outlinewidth": 0,
             "ticks": ""
            },
            "colorscale": [
             [
              0,
              "#0d0887"
             ],
             [
              0.1111111111111111,
              "#46039f"
             ],
             [
              0.2222222222222222,
              "#7201a8"
             ],
             [
              0.3333333333333333,
              "#9c179e"
             ],
             [
              0.4444444444444444,
              "#bd3786"
             ],
             [
              0.5555555555555556,
              "#d8576b"
             ],
             [
              0.6666666666666666,
              "#ed7953"
             ],
             [
              0.7777777777777778,
              "#fb9f3a"
             ],
             [
              0.8888888888888888,
              "#fdca26"
             ],
             [
              1,
              "#f0f921"
             ]
            ],
            "type": "histogram2dcontour"
           }
          ],
          "mesh3d": [
           {
            "colorbar": {
             "outlinewidth": 0,
             "ticks": ""
            },
            "type": "mesh3d"
           }
          ],
          "parcoords": [
           {
            "line": {
             "colorbar": {
              "outlinewidth": 0,
              "ticks": ""
             }
            },
            "type": "parcoords"
           }
          ],
          "pie": [
           {
            "automargin": true,
            "type": "pie"
           }
          ],
          "scatter": [
           {
            "fillpattern": {
             "fillmode": "overlay",
             "size": 10,
             "solidity": 0.2
            },
            "type": "scatter"
           }
          ],
          "scatter3d": [
           {
            "line": {
             "colorbar": {
              "outlinewidth": 0,
              "ticks": ""
             }
            },
            "marker": {
             "colorbar": {
              "outlinewidth": 0,
              "ticks": ""
             }
            },
            "type": "scatter3d"
           }
          ],
          "scattercarpet": [
           {
            "marker": {
             "colorbar": {
              "outlinewidth": 0,
              "ticks": ""
             }
            },
            "type": "scattercarpet"
           }
          ],
          "scattergeo": [
           {
            "marker": {
             "colorbar": {
              "outlinewidth": 0,
              "ticks": ""
             }
            },
            "type": "scattergeo"
           }
          ],
          "scattergl": [
           {
            "marker": {
             "colorbar": {
              "outlinewidth": 0,
              "ticks": ""
             }
            },
            "type": "scattergl"
           }
          ],
          "scattermapbox": [
           {
            "marker": {
             "colorbar": {
              "outlinewidth": 0,
              "ticks": ""
             }
            },
            "type": "scattermapbox"
           }
          ],
          "scatterpolar": [
           {
            "marker": {
             "colorbar": {
              "outlinewidth": 0,
              "ticks": ""
             }
            },
            "type": "scatterpolar"
           }
          ],
          "scatterpolargl": [
           {
            "marker": {
             "colorbar": {
              "outlinewidth": 0,
              "ticks": ""
             }
            },
            "type": "scatterpolargl"
           }
          ],
          "scatterternary": [
           {
            "marker": {
             "colorbar": {
              "outlinewidth": 0,
              "ticks": ""
             }
            },
            "type": "scatterternary"
           }
          ],
          "surface": [
           {
            "colorbar": {
             "outlinewidth": 0,
             "ticks": ""
            },
            "colorscale": [
             [
              0,
              "#0d0887"
             ],
             [
              0.1111111111111111,
              "#46039f"
             ],
             [
              0.2222222222222222,
              "#7201a8"
             ],
             [
              0.3333333333333333,
              "#9c179e"
             ],
             [
              0.4444444444444444,
              "#bd3786"
             ],
             [
              0.5555555555555556,
              "#d8576b"
             ],
             [
              0.6666666666666666,
              "#ed7953"
             ],
             [
              0.7777777777777778,
              "#fb9f3a"
             ],
             [
              0.8888888888888888,
              "#fdca26"
             ],
             [
              1,
              "#f0f921"
             ]
            ],
            "type": "surface"
           }
          ],
          "table": [
           {
            "cells": {
             "fill": {
              "color": "#EBF0F8"
             },
             "line": {
              "color": "white"
             }
            },
            "header": {
             "fill": {
              "color": "#C8D4E3"
             },
             "line": {
              "color": "white"
             }
            },
            "type": "table"
           }
          ]
         },
         "layout": {
          "annotationdefaults": {
           "arrowcolor": "#2a3f5f",
           "arrowhead": 0,
           "arrowwidth": 1
          },
          "autotypenumbers": "strict",
          "coloraxis": {
           "colorbar": {
            "outlinewidth": 0,
            "ticks": ""
           }
          },
          "colorscale": {
           "diverging": [
            [
             0,
             "#8e0152"
            ],
            [
             0.1,
             "#c51b7d"
            ],
            [
             0.2,
             "#de77ae"
            ],
            [
             0.3,
             "#f1b6da"
            ],
            [
             0.4,
             "#fde0ef"
            ],
            [
             0.5,
             "#f7f7f7"
            ],
            [
             0.6,
             "#e6f5d0"
            ],
            [
             0.7,
             "#b8e186"
            ],
            [
             0.8,
             "#7fbc41"
            ],
            [
             0.9,
             "#4d9221"
            ],
            [
             1,
             "#276419"
            ]
           ],
           "sequential": [
            [
             0,
             "#0d0887"
            ],
            [
             0.1111111111111111,
             "#46039f"
            ],
            [
             0.2222222222222222,
             "#7201a8"
            ],
            [
             0.3333333333333333,
             "#9c179e"
            ],
            [
             0.4444444444444444,
             "#bd3786"
            ],
            [
             0.5555555555555556,
             "#d8576b"
            ],
            [
             0.6666666666666666,
             "#ed7953"
            ],
            [
             0.7777777777777778,
             "#fb9f3a"
            ],
            [
             0.8888888888888888,
             "#fdca26"
            ],
            [
             1,
             "#f0f921"
            ]
           ],
           "sequentialminus": [
            [
             0,
             "#0d0887"
            ],
            [
             0.1111111111111111,
             "#46039f"
            ],
            [
             0.2222222222222222,
             "#7201a8"
            ],
            [
             0.3333333333333333,
             "#9c179e"
            ],
            [
             0.4444444444444444,
             "#bd3786"
            ],
            [
             0.5555555555555556,
             "#d8576b"
            ],
            [
             0.6666666666666666,
             "#ed7953"
            ],
            [
             0.7777777777777778,
             "#fb9f3a"
            ],
            [
             0.8888888888888888,
             "#fdca26"
            ],
            [
             1,
             "#f0f921"
            ]
           ]
          },
          "colorway": [
           "#636efa",
           "#EF553B",
           "#00cc96",
           "#ab63fa",
           "#FFA15A",
           "#19d3f3",
           "#FF6692",
           "#B6E880",
           "#FF97FF",
           "#FECB52"
          ],
          "font": {
           "color": "#2a3f5f"
          },
          "geo": {
           "bgcolor": "white",
           "lakecolor": "white",
           "landcolor": "#E5ECF6",
           "showlakes": true,
           "showland": true,
           "subunitcolor": "white"
          },
          "hoverlabel": {
           "align": "left"
          },
          "hovermode": "closest",
          "mapbox": {
           "style": "light"
          },
          "paper_bgcolor": "white",
          "plot_bgcolor": "#E5ECF6",
          "polar": {
           "angularaxis": {
            "gridcolor": "white",
            "linecolor": "white",
            "ticks": ""
           },
           "bgcolor": "#E5ECF6",
           "radialaxis": {
            "gridcolor": "white",
            "linecolor": "white",
            "ticks": ""
           }
          },
          "scene": {
           "xaxis": {
            "backgroundcolor": "#E5ECF6",
            "gridcolor": "white",
            "gridwidth": 2,
            "linecolor": "white",
            "showbackground": true,
            "ticks": "",
            "zerolinecolor": "white"
           },
           "yaxis": {
            "backgroundcolor": "#E5ECF6",
            "gridcolor": "white",
            "gridwidth": 2,
            "linecolor": "white",
            "showbackground": true,
            "ticks": "",
            "zerolinecolor": "white"
           },
           "zaxis": {
            "backgroundcolor": "#E5ECF6",
            "gridcolor": "white",
            "gridwidth": 2,
            "linecolor": "white",
            "showbackground": true,
            "ticks": "",
            "zerolinecolor": "white"
           }
          },
          "shapedefaults": {
           "line": {
            "color": "#2a3f5f"
           }
          },
          "ternary": {
           "aaxis": {
            "gridcolor": "white",
            "linecolor": "white",
            "ticks": ""
           },
           "baxis": {
            "gridcolor": "white",
            "linecolor": "white",
            "ticks": ""
           },
           "bgcolor": "#E5ECF6",
           "caxis": {
            "gridcolor": "white",
            "linecolor": "white",
            "ticks": ""
           }
          },
          "title": {
           "x": 0.05
          },
          "xaxis": {
           "automargin": true,
           "gridcolor": "white",
           "linecolor": "white",
           "ticks": "",
           "title": {
            "standoff": 15
           },
           "zerolinecolor": "white",
           "zerolinewidth": 2
          },
          "yaxis": {
           "automargin": true,
           "gridcolor": "white",
           "linecolor": "white",
           "ticks": "",
           "title": {
            "standoff": 15
           },
           "zerolinecolor": "white",
           "zerolinewidth": 2
          }
         }
        },
        "title": {
         "text": "Total users by Platform"
        },
        "xaxis": {
         "anchor": "y",
         "domain": [
          0,
          1
         ],
         "title": {
          "text": "Number of Users"
         }
        },
        "yaxis": {
         "anchor": "x",
         "domain": [
          0,
          1
         ],
         "title": {
          "text": "Platform"
         }
        }
       }
      },
      "text/html": [
       "<div>                            <div id=\"fe2f1df6-adba-4724-ae40-59c92be8b74b\" class=\"plotly-graph-div\" style=\"height:525px; width:100%;\"></div>            <script type=\"text/javascript\">                require([\"plotly\"], function(Plotly) {                    window.PLOTLYENV=window.PLOTLYENV || {};                                    if (document.getElementById(\"fe2f1df6-adba-4724-ae40-59c92be8b74b\")) {                    Plotly.newPlot(                        \"fe2f1df6-adba-4724-ae40-59c92be8b74b\",                        [{\"alignmentgroup\":\"True\",\"hovertemplate\":\"Number of Users=%{x}<br>Platform=%{y}<extra></extra>\",\"legendgroup\":\"\",\"marker\":{\"color\":\"#636efa\",\"pattern\":{\"shape\":\"\"}},\"name\":\"\",\"offsetgroup\":\"\",\"orientation\":\"h\",\"showlegend\":false,\"textposition\":\"auto\",\"x\":[\"0\",\"0\",\"1000000 \",\"1370000 \",\"2 682 000 \",\"2110000 \",\"43000000 \",\"4450000 \",\"800000 \",\"800000\\u202c \"],\"xaxis\":\"x\",\"y\":[\"Bilibili\",\"Tencent QQ\",\"WeChat\",\"Twitter\",\"Linkedln\",\"Instagram\",\"Youtube\",\"Facebook\",\"Weibo\",\"Tik Tok\"],\"yaxis\":\"y\",\"type\":\"bar\"}],                        {\"template\":{\"data\":{\"histogram2dcontour\":[{\"type\":\"histogram2dcontour\",\"colorbar\":{\"outlinewidth\":0,\"ticks\":\"\"},\"colorscale\":[[0.0,\"#0d0887\"],[0.1111111111111111,\"#46039f\"],[0.2222222222222222,\"#7201a8\"],[0.3333333333333333,\"#9c179e\"],[0.4444444444444444,\"#bd3786\"],[0.5555555555555556,\"#d8576b\"],[0.6666666666666666,\"#ed7953\"],[0.7777777777777778,\"#fb9f3a\"],[0.8888888888888888,\"#fdca26\"],[1.0,\"#f0f921\"]]}],\"choropleth\":[{\"type\":\"choropleth\",\"colorbar\":{\"outlinewidth\":0,\"ticks\":\"\"}}],\"histogram2d\":[{\"type\":\"histogram2d\",\"colorbar\":{\"outlinewidth\":0,\"ticks\":\"\"},\"colorscale\":[[0.0,\"#0d0887\"],[0.1111111111111111,\"#46039f\"],[0.2222222222222222,\"#7201a8\"],[0.3333333333333333,\"#9c179e\"],[0.4444444444444444,\"#bd3786\"],[0.5555555555555556,\"#d8576b\"],[0.6666666666666666,\"#ed7953\"],[0.7777777777777778,\"#fb9f3a\"],[0.8888888888888888,\"#fdca26\"],[1.0,\"#f0f921\"]]}],\"heatmap\":[{\"type\":\"heatmap\",\"colorbar\":{\"outlinewidth\":0,\"ticks\":\"\"},\"colorscale\":[[0.0,\"#0d0887\"],[0.1111111111111111,\"#46039f\"],[0.2222222222222222,\"#7201a8\"],[0.3333333333333333,\"#9c179e\"],[0.4444444444444444,\"#bd3786\"],[0.5555555555555556,\"#d8576b\"],[0.6666666666666666,\"#ed7953\"],[0.7777777777777778,\"#fb9f3a\"],[0.8888888888888888,\"#fdca26\"],[1.0,\"#f0f921\"]]}],\"heatmapgl\":[{\"type\":\"heatmapgl\",\"colorbar\":{\"outlinewidth\":0,\"ticks\":\"\"},\"colorscale\":[[0.0,\"#0d0887\"],[0.1111111111111111,\"#46039f\"],[0.2222222222222222,\"#7201a8\"],[0.3333333333333333,\"#9c179e\"],[0.4444444444444444,\"#bd3786\"],[0.5555555555555556,\"#d8576b\"],[0.6666666666666666,\"#ed7953\"],[0.7777777777777778,\"#fb9f3a\"],[0.8888888888888888,\"#fdca26\"],[1.0,\"#f0f921\"]]}],\"contourcarpet\":[{\"type\":\"contourcarpet\",\"colorbar\":{\"outlinewidth\":0,\"ticks\":\"\"}}],\"contour\":[{\"type\":\"contour\",\"colorbar\":{\"outlinewidth\":0,\"ticks\":\"\"},\"colorscale\":[[0.0,\"#0d0887\"],[0.1111111111111111,\"#46039f\"],[0.2222222222222222,\"#7201a8\"],[0.3333333333333333,\"#9c179e\"],[0.4444444444444444,\"#bd3786\"],[0.5555555555555556,\"#d8576b\"],[0.6666666666666666,\"#ed7953\"],[0.7777777777777778,\"#fb9f3a\"],[0.8888888888888888,\"#fdca26\"],[1.0,\"#f0f921\"]]}],\"surface\":[{\"type\":\"surface\",\"colorbar\":{\"outlinewidth\":0,\"ticks\":\"\"},\"colorscale\":[[0.0,\"#0d0887\"],[0.1111111111111111,\"#46039f\"],[0.2222222222222222,\"#7201a8\"],[0.3333333333333333,\"#9c179e\"],[0.4444444444444444,\"#bd3786\"],[0.5555555555555556,\"#d8576b\"],[0.6666666666666666,\"#ed7953\"],[0.7777777777777778,\"#fb9f3a\"],[0.8888888888888888,\"#fdca26\"],[1.0,\"#f0f921\"]]}],\"mesh3d\":[{\"type\":\"mesh3d\",\"colorbar\":{\"outlinewidth\":0,\"ticks\":\"\"}}],\"scatter\":[{\"fillpattern\":{\"fillmode\":\"overlay\",\"size\":10,\"solidity\":0.2},\"type\":\"scatter\"}],\"parcoords\":[{\"type\":\"parcoords\",\"line\":{\"colorbar\":{\"outlinewidth\":0,\"ticks\":\"\"}}}],\"scatterpolargl\":[{\"type\":\"scatterpolargl\",\"marker\":{\"colorbar\":{\"outlinewidth\":0,\"ticks\":\"\"}}}],\"bar\":[{\"error_x\":{\"color\":\"#2a3f5f\"},\"error_y\":{\"color\":\"#2a3f5f\"},\"marker\":{\"line\":{\"color\":\"#E5ECF6\",\"width\":0.5},\"pattern\":{\"fillmode\":\"overlay\",\"size\":10,\"solidity\":0.2}},\"type\":\"bar\"}],\"scattergeo\":[{\"type\":\"scattergeo\",\"marker\":{\"colorbar\":{\"outlinewidth\":0,\"ticks\":\"\"}}}],\"scatterpolar\":[{\"type\":\"scatterpolar\",\"marker\":{\"colorbar\":{\"outlinewidth\":0,\"ticks\":\"\"}}}],\"histogram\":[{\"marker\":{\"pattern\":{\"fillmode\":\"overlay\",\"size\":10,\"solidity\":0.2}},\"type\":\"histogram\"}],\"scattergl\":[{\"type\":\"scattergl\",\"marker\":{\"colorbar\":{\"outlinewidth\":0,\"ticks\":\"\"}}}],\"scatter3d\":[{\"type\":\"scatter3d\",\"line\":{\"colorbar\":{\"outlinewidth\":0,\"ticks\":\"\"}},\"marker\":{\"colorbar\":{\"outlinewidth\":0,\"ticks\":\"\"}}}],\"scattermapbox\":[{\"type\":\"scattermapbox\",\"marker\":{\"colorbar\":{\"outlinewidth\":0,\"ticks\":\"\"}}}],\"scatterternary\":[{\"type\":\"scatterternary\",\"marker\":{\"colorbar\":{\"outlinewidth\":0,\"ticks\":\"\"}}}],\"scattercarpet\":[{\"type\":\"scattercarpet\",\"marker\":{\"colorbar\":{\"outlinewidth\":0,\"ticks\":\"\"}}}],\"carpet\":[{\"aaxis\":{\"endlinecolor\":\"#2a3f5f\",\"gridcolor\":\"white\",\"linecolor\":\"white\",\"minorgridcolor\":\"white\",\"startlinecolor\":\"#2a3f5f\"},\"baxis\":{\"endlinecolor\":\"#2a3f5f\",\"gridcolor\":\"white\",\"linecolor\":\"white\",\"minorgridcolor\":\"white\",\"startlinecolor\":\"#2a3f5f\"},\"type\":\"carpet\"}],\"table\":[{\"cells\":{\"fill\":{\"color\":\"#EBF0F8\"},\"line\":{\"color\":\"white\"}},\"header\":{\"fill\":{\"color\":\"#C8D4E3\"},\"line\":{\"color\":\"white\"}},\"type\":\"table\"}],\"barpolar\":[{\"marker\":{\"line\":{\"color\":\"#E5ECF6\",\"width\":0.5},\"pattern\":{\"fillmode\":\"overlay\",\"size\":10,\"solidity\":0.2}},\"type\":\"barpolar\"}],\"pie\":[{\"automargin\":true,\"type\":\"pie\"}]},\"layout\":{\"autotypenumbers\":\"strict\",\"colorway\":[\"#636efa\",\"#EF553B\",\"#00cc96\",\"#ab63fa\",\"#FFA15A\",\"#19d3f3\",\"#FF6692\",\"#B6E880\",\"#FF97FF\",\"#FECB52\"],\"font\":{\"color\":\"#2a3f5f\"},\"hovermode\":\"closest\",\"hoverlabel\":{\"align\":\"left\"},\"paper_bgcolor\":\"white\",\"plot_bgcolor\":\"#E5ECF6\",\"polar\":{\"bgcolor\":\"#E5ECF6\",\"angularaxis\":{\"gridcolor\":\"white\",\"linecolor\":\"white\",\"ticks\":\"\"},\"radialaxis\":{\"gridcolor\":\"white\",\"linecolor\":\"white\",\"ticks\":\"\"}},\"ternary\":{\"bgcolor\":\"#E5ECF6\",\"aaxis\":{\"gridcolor\":\"white\",\"linecolor\":\"white\",\"ticks\":\"\"},\"baxis\":{\"gridcolor\":\"white\",\"linecolor\":\"white\",\"ticks\":\"\"},\"caxis\":{\"gridcolor\":\"white\",\"linecolor\":\"white\",\"ticks\":\"\"}},\"coloraxis\":{\"colorbar\":{\"outlinewidth\":0,\"ticks\":\"\"}},\"colorscale\":{\"sequential\":[[0.0,\"#0d0887\"],[0.1111111111111111,\"#46039f\"],[0.2222222222222222,\"#7201a8\"],[0.3333333333333333,\"#9c179e\"],[0.4444444444444444,\"#bd3786\"],[0.5555555555555556,\"#d8576b\"],[0.6666666666666666,\"#ed7953\"],[0.7777777777777778,\"#fb9f3a\"],[0.8888888888888888,\"#fdca26\"],[1.0,\"#f0f921\"]],\"sequentialminus\":[[0.0,\"#0d0887\"],[0.1111111111111111,\"#46039f\"],[0.2222222222222222,\"#7201a8\"],[0.3333333333333333,\"#9c179e\"],[0.4444444444444444,\"#bd3786\"],[0.5555555555555556,\"#d8576b\"],[0.6666666666666666,\"#ed7953\"],[0.7777777777777778,\"#fb9f3a\"],[0.8888888888888888,\"#fdca26\"],[1.0,\"#f0f921\"]],\"diverging\":[[0,\"#8e0152\"],[0.1,\"#c51b7d\"],[0.2,\"#de77ae\"],[0.3,\"#f1b6da\"],[0.4,\"#fde0ef\"],[0.5,\"#f7f7f7\"],[0.6,\"#e6f5d0\"],[0.7,\"#b8e186\"],[0.8,\"#7fbc41\"],[0.9,\"#4d9221\"],[1,\"#276419\"]]},\"xaxis\":{\"gridcolor\":\"white\",\"linecolor\":\"white\",\"ticks\":\"\",\"title\":{\"standoff\":15},\"zerolinecolor\":\"white\",\"automargin\":true,\"zerolinewidth\":2},\"yaxis\":{\"gridcolor\":\"white\",\"linecolor\":\"white\",\"ticks\":\"\",\"title\":{\"standoff\":15},\"zerolinecolor\":\"white\",\"automargin\":true,\"zerolinewidth\":2},\"scene\":{\"xaxis\":{\"backgroundcolor\":\"#E5ECF6\",\"gridcolor\":\"white\",\"linecolor\":\"white\",\"showbackground\":true,\"ticks\":\"\",\"zerolinecolor\":\"white\",\"gridwidth\":2},\"yaxis\":{\"backgroundcolor\":\"#E5ECF6\",\"gridcolor\":\"white\",\"linecolor\":\"white\",\"showbackground\":true,\"ticks\":\"\",\"zerolinecolor\":\"white\",\"gridwidth\":2},\"zaxis\":{\"backgroundcolor\":\"#E5ECF6\",\"gridcolor\":\"white\",\"linecolor\":\"white\",\"showbackground\":true,\"ticks\":\"\",\"zerolinecolor\":\"white\",\"gridwidth\":2}},\"shapedefaults\":{\"line\":{\"color\":\"#2a3f5f\"}},\"annotationdefaults\":{\"arrowcolor\":\"#2a3f5f\",\"arrowhead\":0,\"arrowwidth\":1},\"geo\":{\"bgcolor\":\"white\",\"landcolor\":\"#E5ECF6\",\"subunitcolor\":\"white\",\"showland\":true,\"showlakes\":true,\"lakecolor\":\"white\"},\"title\":{\"x\":0.05},\"mapbox\":{\"style\":\"light\"}}},\"xaxis\":{\"anchor\":\"y\",\"domain\":[0.0,1.0],\"title\":{\"text\":\"Number of Users\"}},\"yaxis\":{\"anchor\":\"x\",\"domain\":[0.0,1.0],\"title\":{\"text\":\"Platform\"}},\"legend\":{\"tracegroupgap\":0},\"title\":{\"text\":\"Total users by Platform\"},\"barmode\":\"relative\"},                        {\"responsive\": true}                    ).then(function(){\n",
       "                            \n",
       "var gd = document.getElementById('fe2f1df6-adba-4724-ae40-59c92be8b74b');\n",
       "var x = new MutationObserver(function (mutations, observer) {{\n",
       "        var display = window.getComputedStyle(gd).display;\n",
       "        if (!display || display === 'none') {{\n",
       "            console.log([gd, 'removed!']);\n",
       "            Plotly.purge(gd);\n",
       "            observer.disconnect();\n",
       "        }}\n",
       "}});\n",
       "\n",
       "// Listen for the removal of the full notebook cells\n",
       "var notebookContainer = gd.closest('#notebook-container');\n",
       "if (notebookContainer) {{\n",
       "    x.observe(notebookContainer, {childList: true});\n",
       "}}\n",
       "\n",
       "// Listen for the clearing of the current output cell\n",
       "var outputEl = gd.closest('.output');\n",
       "if (outputEl) {{\n",
       "    x.observe(outputEl, {childList: true});\n",
       "}}\n",
       "\n",
       "                        })                };                });            </script>        </div>"
      ]
     },
     "metadata": {},
     "output_type": "display_data"
    }
   ],
   "source": [
    "# coding choosing interface\n",
    "import plotly.express as px\n",
    "\n",
    "user_story = input('What would you like to do? (Type command from list)\\nCheck Social Media\\nCheck Country\\nCheck Percentage\\n')\n",
    "\n",
    "# user story 1\n",
    "if user_story == 'Check Social Media':\n",
    "    for row in clean.index:\n",
    "        print('\"'+row+'\"')\n",
    "    platform = input('\\nWhich platform are you interested in? (Type platform name)\\n')\n",
    "    data = clean.loc[platform] # get data\n",
    "    country = {} # get dictionary\n",
    "    for i in range(len(data)):\n",
    "        name = clean.loc[[platform]].columns[i]\n",
    "        num = str(data[i])\n",
    "        if '(' in num:\n",
    "            num = num.split('(')[0]\n",
    "        country[name] = num\n",
    "    country = dict(sorted(country.items(), key=lambda item: item[1]))\n",
    "    keys = list(country.keys())\n",
    "    values = list(country.values())\n",
    "    fig = px.bar(y=keys, x=values,\n",
    "                 labels={'x': 'Number of Users', 'y': 'Country'},\n",
    "                 orientation='h', \n",
    "                 title= 'Total users by Country')\n",
    "    fig.show()\n",
    "    \n",
    "# user story 2\n",
    "elif user_story == 'Check Country':\n",
    "    for col in clean.columns:\n",
    "        print('\"'+col+'\"')\n",
    "    country = input('\\nWhich country are you interestesd in? (Type country name)\\n')\n",
    "    data = clean[country] # get data\n",
    "    platform = {} # get dictionary\n",
    "    for i in range(len(data)):\n",
    "        name = clean[[country]].index[i]\n",
    "        num = str(data[i])\n",
    "        if '(' in num:\n",
    "            num = num.split('(')[0]\n",
    "        platform[name] = num\n",
    "    platform = dict(sorted(platform.items(), key=lambda item: item[1]))\n",
    "    keys = list(platform.keys())\n",
    "    values = list(platform.values())\n",
    "    fig = px.bar(y=keys, x=values,\n",
    "                 labels={'x': 'Number of Users', 'y': 'Platform'},\n",
    "                 orientation='h', \n",
    "                 title= 'Total users by Platform')\n",
    "    fig.show()\n",
    "    \n",
    "# user story 3\n",
    "elif user_story == 'Check Percentage':\n",
    "    for col in clean.columns:\n",
    "        print('\"'+col+'\"')\n",
    "    country = input('\\nWhich country are you interestesd in? (Type country name)\\n')\n",
    "    data = clean[country] # get data\n",
    "    platform = {} # get dictionary\n",
    "    for i in range(len(data)):\n",
    "        name = clean[[country]].index[i]\n",
    "        num = str(data[i])\n",
    "        platform[name] = num\n",
    "    platform = dict(sorted(platform.items(), key=lambda item: item[1]))\n",
    "    website = 'https://www.worldometers.info'\n",
    "    # get total population\n",
    "    for link in data_items:\n",
    "        if country in link:\n",
    "            website += link.get('href')\n",
    "            about_country = read_url(website)\n",
    "            soup2 = BeautifulSoup(about_country , 'html.parser') \n",
    "    # calculate percentages\n",
    "    for k,v in platform.items():\n",
    "        if v != '0':\n",
    "            year = v.split('(')[1].split(',')[0]\n",
    "        for i in soup2.find_all('tr'):\n",
    "            if year in str(i):\n",
    "                try:\n",
    "                    total_population = i.find('strong').text\n",
    "                except:\n",
    "                    pass\n",
    "        user_population = v.split('(')[0]\n",
    "        # stupid unicode\n",
    "        user_population = user_population.replace(' ','')\n",
    "        user_population = user_population.encode(\"ascii\", \"ignore\")\n",
    "        user_population = user_population.decode()\n",
    "        percentage = round(int(user_population)/int(total_population.replace(',','')),2)\n",
    "        platform[k] = percentage\n",
    "    platform = dict(sorted(platform.items(), key=lambda item: item[1]))\n",
    "    keys = list(platform.keys())\n",
    "    values = list(platform.values())\n",
    "    fig = px.bar(y=keys, x=values,\n",
    "                 labels={'x': 'Number of Users (%)', 'y': 'Platform'},\n",
    "                 orientation='h', \n",
    "                 title= 'Total users by Platform by Percentage')\n",
    "    fig.show()"
   ]
  }
 ],
 "metadata": {
  "kernelspec": {
   "display_name": "Python 3 (ipykernel)",
   "language": "python",
   "name": "python3"
  },
  "language_info": {
   "codemirror_mode": {
    "name": "ipython",
    "version": 3
   },
   "file_extension": ".py",
   "mimetype": "text/x-python",
   "name": "python",
   "nbconvert_exporter": "python",
   "pygments_lexer": "ipython3",
   "version": "3.9.7"
  }
 },
 "nbformat": 4,
 "nbformat_minor": 5
}
